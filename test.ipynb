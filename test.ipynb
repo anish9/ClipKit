{
 "cells": [
  {
   "cell_type": "code",
   "execution_count": 2,
   "id": "e39704f5-451c-46e7-bbda-6a525f405752",
   "metadata": {},
   "outputs": [
    {
     "name": "stderr",
     "output_type": "stream",
     "text": [
      "WARNING: All log messages before absl::InitializeLog() is called are written to STDERR\n",
      "E0000 00:00:1747381946.515077   12711 cuda_dnn.cc:8579] Unable to register cuDNN factory: Attempting to register factory for plugin cuDNN when one has already been registered\n",
      "E0000 00:00:1747381946.519412   12711 cuda_blas.cc:1407] Unable to register cuBLAS factory: Attempting to register factory for plugin cuBLAS when one has already been registered\n",
      "W0000 00:00:1747381946.530232   12711 computation_placer.cc:177] computation placer already registered. Please check linkage and avoid linking the same target more than once.\n",
      "W0000 00:00:1747381946.530248   12711 computation_placer.cc:177] computation placer already registered. Please check linkage and avoid linking the same target more than once.\n",
      "W0000 00:00:1747381946.530249   12711 computation_placer.cc:177] computation placer already registered. Please check linkage and avoid linking the same target more than once.\n",
      "W0000 00:00:1747381946.530250   12711 computation_placer.cc:177] computation placer already registered. Please check linkage and avoid linking the same target more than once.\n",
      "I0000 00:00:1747381949.048904   12711 gpu_device.cc:2019] Created device /job:localhost/replica:0/task:0/device:GPU:0 with 6415 MB memory:  -> device: 0, name: NVIDIA GeForce RTX 2070, pci bus id: 0000:01:00.0, compute capability: 7.5\n"
     ]
    }
   ],
   "source": [
    "from typing import Dict, List\n",
    "\n",
    "import tensorflow as tf\n",
    "from PIL import Image\n",
    "from pydantic import FilePath\n",
    "\n",
    "from clipkit.cliplayers import ClipMe\n",
    "from train import image_model, proj_dim, text_max_len, text_model, tokenizer\n",
    "\n",
    "\n",
    "def prepare_image(image_path: FilePath) -> tf.Tensor:\n",
    "    img = tf.io.read_file(image_path)\n",
    "    img = tf.image.decode_image(img, channels=3)\n",
    "    img = tf.image.resize_with_pad(img, 224, 224)[tf.newaxis, :, :, :]\n",
    "    return img\n",
    "\n",
    "\n",
    "def clip_data_prep(image_path: FilePath, captions: List[str]) -> Dict:\n",
    "    img = prepare_image(image_path)\n",
    "    enc = tokenizer(\n",
    "        captions,\n",
    "        padding=\"max_length\",\n",
    "        truncation=True,\n",
    "        max_length=text_max_len,\n",
    "        return_tensors=\"np\",\n",
    "    )\n",
    "    ids, mask = enc[\"input_ids\"], enc[\"attention_mask\"]\n",
    "    inputs = {\"pixel_values\": img, \"input_ids\": ids, \"attention_mask\": mask}\n",
    "    return inputs\n",
    "\n",
    "\n",
    "def get_embeddings(image_path: FilePath, captions: List[str]):\n",
    "    data_sample = clip_data_prep(image_path=image_path, captions=captions)\n",
    "    prediction = CLIPME(data_sample, training=False)\n",
    "    im_vect = tf.math.l2_normalize(prediction[0], axis=-1)\n",
    "    txt_vetc = tf.math.l2_normalize(prediction[1], axis=-1)\n",
    "    return im_vect, txt_vetc\n",
    "\n",
    "\n",
    "def compute_scores(\n",
    "    image_vector: tf.Tensor,\n",
    "    text_vector: tf.Tensor,\n",
    "    captions: List[str],\n",
    "    top_pred_count: int = 3,\n",
    "):\n",
    "    compute_sim = image_vector @ tf.transpose(text_vector)\n",
    "    out = captions[tf.argmax(compute_sim, axis=-1)[0].numpy()]\n",
    "    indices = tf.argsort(compute_sim, direction=\"DESCENDING\")[0][\n",
    "        :top_pred_count\n",
    "    ].numpy()\n",
    "    scores = compute_sim[0].numpy()[indices]\n",
    "    scores = scores.tolist()\n",
    "    labels = [captions[s] for s in indices]\n",
    "    output_preds = dict(zip(labels, scores))\n",
    "    return output_preds"
   ]
  },
  {
   "cell_type": "markdown",
   "id": "ea504bac-88d8-4c79-af8d-7e8166ffce08",
   "metadata": {},
   "source": [
    "#### Load the Model Checkpoint"
   ]
  },
  {
   "cell_type": "code",
   "execution_count": null,
   "id": "af8ebc32-8e8b-4e01-8977-204382918d39",
   "metadata": {},
   "outputs": [],
   "source": [
    "# ckpt dir\n",
    "checkpoint_path = \"breed_model/\"\n",
    "\n",
    "CLIPME = ClipMe(image_model_id=image_model, text_model_id=text_model, proj_dim=proj_dim)\n",
    "_ = CLIPME(\n",
    "    {\n",
    "        \"pixel_values\": tf.ones((1, 224, 224, 3)),\n",
    "        \"input_ids\": tf.ones((1, 12), tf.int32),\n",
    "        \"attention_mask\": tf.ones((1, 12), tf.int32),\n",
    "    }\n",
    ")\n",
    "\n",
    "ckpt = tf.train.Checkpoint(net=CLIPME)\n",
    "ckpt.restore(tf.train.latest_checkpoint(checkpoint_path)).expect_partial()"
   ]
  },
  {
   "cell_type": "markdown",
   "id": "4362f39a-3c9e-4f1e-8438-006122490356",
   "metadata": {},
   "source": [
    "#### Load the captions for zero shot classification"
   ]
  },
  {
   "cell_type": "code",
   "execution_count": null,
   "id": "d7874f59-d959-4320-85ae-9302903b1b98",
   "metadata": {},
   "outputs": [],
   "source": [
    "captions = [\n",
    "    \"the breed is shitzu\",\n",
    "    \"the breed is norweight_elkahound\",\n",
    "    \"the breed is Maltese\",\n",
    "    \"the breed is irish_grayhound\",\n",
    "    \"the breed is japanese_spaniel\",\n",
    "    \"the breed is bloodhound\",\n",
    "    \"the breed is rotweiller\",\n",
    "    \"the breed is Komondor\",\n",
    "    \"the breed is redbone\",\n",
    "]"
   ]
  },
  {
   "cell_type": "code",
   "execution_count": null,
   "id": "1beffd94-9bd9-4cdb-8396-352d9325b145",
   "metadata": {},
   "outputs": [],
   "source": [
    "image_id = \"/home/anish/Desktop/68768d392e81a9864575a1678707565b.jpg\"  # image_path\n",
    "image_vect, text_vect = get_embeddings(image_path=image_id, captions=captions)\n",
    "predictions = compute_scores(\n",
    "    image_vector=image_vect, text_vector=text_vect, captions=captions, top_pred_count=3\n",
    ")\n",
    "print(predictions)\n",
    "im = Image.open(image_id)\n",
    "im.thumbnail((250, 250))\n",
    "im"
   ]
  }
 ],
 "metadata": {
  "kernelspec": {
   "display_name": "Python 3 (ipykernel)",
   "language": "python",
   "name": "python3"
  },
  "language_info": {
   "codemirror_mode": {
    "name": "ipython",
    "version": 3
   },
   "file_extension": ".py",
   "mimetype": "text/x-python",
   "name": "python",
   "nbconvert_exporter": "python",
   "pygments_lexer": "ipython3",
   "version": "3.12.9"
  }
 },
 "nbformat": 4,
 "nbformat_minor": 5
}
